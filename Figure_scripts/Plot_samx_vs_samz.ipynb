{
 "cells": [
  {
   "cell_type": "markdown",
   "metadata": {},
   "source": [
    "# Synopsis\n",
    "\n",
    "This code generates the Sam_X vs Sam_Z droplet scanning figure"
   ]
  },
  {
   "cell_type": "markdown",
   "metadata": {},
   "source": [
    "## Initialize"
   ]
  },
  {
   "cell_type": "code",
   "execution_count": 1,
   "metadata": {},
   "outputs": [],
   "source": [
    "import csv\n",
    "import numpy as np\n",
    "\n",
    "from matplotlib import pyplot as plt\n",
    "import matplotlib.ticker as tck\n",
    "from sklearn import preprocessing"
   ]
  },
  {
   "cell_type": "markdown",
   "metadata": {},
   "source": [
    "## Resize data"
   ]
  },
  {
   "cell_type": "code",
   "execution_count": 2,
   "metadata": {},
   "outputs": [],
   "source": [
    "def resize_data(sam_x_z_list, pind4):\n",
    "\n",
    "    new_sam = []\n",
    "    new_pind4 = []\n",
    "\n",
    "    for item in range(0,len(sam_x_z_list)-1,2):\n",
    "        new_sam.append(sam_x_z_list[item])\n",
    "        new_pind4.append(pind4[item]) \n",
    "    \n",
    "    return new_sam, new_pind4\n"
   ]
  },
  {
   "cell_type": "markdown",
   "metadata": {},
   "source": [
    "## Parse data file"
   ]
  },
  {
   "cell_type": "code",
   "execution_count": 3,
   "metadata": {},
   "outputs": [],
   "source": [
    "def parse_data_file(filename, header_name, sam_x_z):\n",
    "    h_name = [\"#S\", header_name]\n",
    "    with open(filename, 'r') as infile:\n",
    "        reader = csv.reader(infile, delimiter= \" \")\n",
    "        found_target_data = False\n",
    "        found_section = False\n",
    "        header1 = None \n",
    "        header2 =None\n",
    "        sam_x_z_list = []\n",
    "        pind4 = []\n",
    "   \n",
    "        \n",
    "        for row in reader:\n",
    "            if not found_target_data:\n",
    "                if len(row) > 0 :\n",
    "                    if row[0] == h_name[0] and row[1] == h_name[1]:\n",
    "                        found_target_data = True\n",
    "            else:\n",
    "                if not found_section:\n",
    "                    if len(row) > 0 :\n",
    "                        if row[0] == \"#L\" and row[1] == sam_x_z:\n",
    "                            header2 = next(reader)\n",
    "                            found_section= True\n",
    "                else:\n",
    "                    if len(row) > 0 and row[0] != \"#C\":\n",
    "                        sam_x_z_list.append(float(row[0]))\n",
    "                        pind4.append(float(row[-1]))\n",
    "                    else:\n",
    "                        break\n",
    "    x, y = resize_data(sam_x_z_list, pind4)                     \n",
    "    return x, y\n"
   ]
  },
  {
   "cell_type": "markdown",
   "metadata": {},
   "source": [
    "## Plot Sam_X vs Sam_Z figure"
   ]
  },
  {
   "cell_type": "code",
   "execution_count": 6,
   "metadata": {},
   "outputs": [],
   "source": [
    "\n",
    "def plot_scan_data(filename, header_name, sam_x_z):\n",
    "    scale = 1\n",
    "    width = 3.5*scale\n",
    "    font_size = 8*scale\n",
    "    line_width = 0.5*scale\n",
    "    marker_size = 4*scale\n",
    "    tick_length_major = 4*scale\n",
    "    tick_length_minor = 2*scale\n",
    "    dim=1\n",
    "\n",
    "    fig, (axt,axa) = plt.subplots(1, 2, figsize=(width, 0.8*width))\n",
    "    plt.rcParams[\"font.family\"] = \"Arial\"\n",
    "    plt.rcParams['axes.linewidth'] = line_width\n",
    "\n",
    "    x_axis1, y_axis1 = parse_data_file(filename, header_name, sam_x_z)\n",
    "    x_axis1 = [x - 7 for x in x_axis1]\n",
    "    x_axis2, y_axis2 = parse_data_file(filename, \"36\", \"samx\")\n",
    "    x_axis2 = [x + 7 for x in x_axis2]\n",
    "\n",
    "    x_axis1 = np.array(x_axis1).reshape(-1,1)\n",
    "    y_axis1 = np.array(y_axis1).reshape(-1,1)\n",
    "    x_axis2 = np.array(x_axis2).reshape(-1,1)\n",
    "    y_axis2 = np.array(y_axis2).reshape(-1,1)\n",
    "\n",
    "    normalizedy_axis1 = [float(i)/max(y_axis1) for i in y_axis1]\n",
    "    normalizedy_axis2 = [float(i)/max(y_axis2) for i in y_axis2]\n",
    "\n",
    "    axa.errorbar(x_axis1, normalizedy_axis1,  color = 'tab:red' ,fmt = 'o', markersize=marker_size + 4, linewidth=line_width, markeredgewidth=line_width, markerfacecolor='none')\n",
    "    axa.plot(x_axis1[3:-3], normalizedy_axis1[3:-3], 'k-', markersize=marker_size , linewidth=1.2*line_width)\n",
    "    axa.set_xlabel(\"Vertical (mm)\", fontsize = font_size)\n",
    "    axa.set_xlim(-2, 2)\n",
    "    axa.set_xticks([-2,-1,0,1,2], fontsize = font_size) \n",
    "    axa.grid(color='k', linestyle=':', linewidth=line_width, alpha=0.1, which='both')\n",
    "    axa.xaxis.set_minor_locator(tck.AutoMinorLocator())\n",
    "    axa.tick_params('both', length=tick_length_major, width=line_width, which='major', labelsize=font_size)\n",
    "    axa.tick_params('both', length=tick_length_minor, width=0.5*line_width, which='minor',\n",
    "                labelleft=False, labelbottom=False)\n",
    "    axa.tick_params(which='major' ,top=False, bottom=True, left=False, right=False,\n",
    "                    labelleft=False, labelbottom=True)\n",
    " \n",
    "    for axis in ['top','bottom','left','right']:\n",
    "        axa.spines[axis].set_linewidth(line_width)\n",
    "\n",
    "\n",
    "    axt.errorbar(x_axis2, normalizedy_axis2, color = 'tab:red' ,fmt = 'o', markersize=marker_size + 4, linewidth=line_width, markeredgewidth=line_width, markerfacecolor='none')\n",
    "    axt.plot(x_axis2[2:-2], normalizedy_axis2[2:-2], 'k-', markersize=marker_size , linewidth=1.2*line_width)\n",
    "    axt.set_xlabel(\"Horizontal (mm)\", fontsize = font_size)\n",
    "    axt.set_ylabel('Transmission Coefficient (a.u.)',fontsize = font_size)\n",
    "\n",
    "    \n",
    "    axt.set_xlim(-2, 2)\n",
    "    # axt.set_ylim(-0.1,1.1)\n",
    "    axt.set_xticks([-2, -1 , 0, 1,2],fontsize = font_size) \n",
    "    axt.set_yticks([1,0.9,0.8,0.7,0.6,0.5,0.4], fontsize = font_size)\n",
    "\n",
    "    \n",
    "    axt.grid(color='k', linestyle=':', linewidth=line_width, alpha=0.1, which='both')\n",
    "    axt.xaxis.set_minor_locator(tck.AutoMinorLocator())\n",
    "\n",
    "    axt.tick_params('both', length=tick_length_major, width=line_width, which='major', labelsize=font_size)\n",
    "    axt.tick_params('both', length=tick_length_minor, width=0.5*line_width, which='minor', bottom = True,\n",
    "                labelleft=False, labelbottom=True)\n",
    "    axt.tick_params(which='major' ,top=False, bottom=True, left=True, right=False,\n",
    "                    labelleft=True, labelbottom=True)\n",
    " \n",
    "    for axis in ['top','bottom','left','right']:\n",
    "        axt.spines[axis].set_linewidth(line_width)\n",
    "\n",
    "    plt.savefig('../Figures/plot_sam_x_z.pdf', dpi=600, format='pdf', \n",
    "            facecolor='w', edgecolor='w', transparent=False, bbox_inches='tight')\n",
    "\n"
   ]
  },
  {
   "cell_type": "code",
   "execution_count": 7,
   "metadata": {},
   "outputs": [
    {
     "data": {
      "image/png": "[encoded data removed]",
      "text/plain": [
       "<Figure size 252x201.6 with 2 Axes>"
      ]
     },
     "metadata": {
      "needs_background": "light"
     },
     "output_type": "display_data"
    }
   ],
   "source": [
    "plot_scan_data(\"../Data/babnigg20220302.txt\", \"35\", \"samz\")"
   ]
  }
 ],
 "metadata": {
  "kernelspec": {
   "display_name": "Python 3 (ipykernel)",
   "language": "python",
   "name": "python3"
  },
  "language_info": {
   "codemirror_mode": {
    "name": "ipython",
    "version": 3
   },
   "file_extension": ".py",
   "mimetype": "text/x-python",
   "name": "python",
   "nbconvert_exporter": "python",
   "pygments_lexer": "ipython3",
   "version": "3.9.7"
  },
  "vscode": {
   "interpreter": {
    "hash": "e47b1a34c05c1e3b83a62d7885c9d1b5ef8a0522d3be0182d0a008ec409b2b3d"
   }
  }
 },
 "nbformat": 4,
 "nbformat_minor": 4
}
